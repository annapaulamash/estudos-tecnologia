{
 "cells": [
  {
   "cell_type": "code",
   "execution_count": 2,
   "metadata": {},
   "outputs": [],
   "source": [
    "#Pendente Correções \n",
    "\n",
    "#Importando bibliotecas\n",
    "\n",
    "import time\n",
    "import pyautogui\n",
    "import pyperclip\n",
    "import pandas as pd\n",
    "import os\n",
    "\n",
    "link = 'https://docs.google.com/spreadsheets/d/1AToabuB_d9s2tv6rWxSQyzbFuqUuj8aCYeQ_GD6EJPg/edit?usp=drive_web&ouid=101865441184343255661'\n",
    "\n",
    "destino ='/home/neybackes/Desktop/programacao/Python/script_planilha_dados//Teste_Dados.xlsx'\n",
    "novo_arquivo = '/home/neybackes/Desktop/programacao/Python/script_planilha_dados/investimentos_resultados.xlsx'"
   ]
  },
  {
   "cell_type": "code",
   "execution_count": 10,
   "metadata": {},
   "outputs": [
    {
     "ename": "KeyboardInterrupt",
     "evalue": "",
     "output_type": "error",
     "traceback": [
      "\u001b[0;31m---------------------------------------------------------------------------\u001b[0m",
      "\u001b[0;31mKeyboardInterrupt\u001b[0m                         Traceback (most recent call last)",
      "\u001b[1;32m/home/neybackes/Desktop/programacao/Python/script_planilha_dados/script_dados.ipynb Cell 2'\u001b[0m in \u001b[0;36m<cell line: 11>\u001b[0;34m()\u001b[0m\n\u001b[1;32m      <a href='vscode-notebook-cell:/home/neybackes/Desktop/programacao/Python/script_planilha_dados/script_dados.ipynb#ch0000001?line=8'>9</a>\u001b[0m time\u001b[39m.\u001b[39msleep(\u001b[39m2\u001b[39m)\n\u001b[1;32m     <a href='vscode-notebook-cell:/home/neybackes/Desktop/programacao/Python/script_planilha_dados/script_dados.ipynb#ch0000001?line=9'>10</a>\u001b[0m pyautogui\u001b[39m.\u001b[39mhotkey(\u001b[39m'\u001b[39m\u001b[39mctrl\u001b[39m\u001b[39m'\u001b[39m, \u001b[39m'\u001b[39m\u001b[39mv\u001b[39m\u001b[39m'\u001b[39m)\n\u001b[0;32m---> <a href='vscode-notebook-cell:/home/neybackes/Desktop/programacao/Python/script_planilha_dados/script_dados.ipynb#ch0000001?line=10'>11</a>\u001b[0m pyautogui\u001b[39m.\u001b[39;49mpress(\u001b[39m'\u001b[39;49m\u001b[39menter\u001b[39;49m\u001b[39m'\u001b[39;49m)\n\u001b[1;32m     <a href='vscode-notebook-cell:/home/neybackes/Desktop/programacao/Python/script_planilha_dados/script_dados.ipynb#ch0000001?line=11'>12</a>\u001b[0m time\u001b[39m.\u001b[39msleep(\u001b[39m10\u001b[39m)\n\u001b[1;32m     <a href='vscode-notebook-cell:/home/neybackes/Desktop/programacao/Python/script_planilha_dados/script_dados.ipynb#ch0000001?line=12'>13</a>\u001b[0m pyautogui\u001b[39m.\u001b[39mclick(x\u001b[39m=\u001b[39m\u001b[39m88\u001b[39m, y\u001b[39m=\u001b[39m\u001b[39m121\u001b[39m)\n",
      "File \u001b[0;32m~/.local/lib/python3.8/site-packages/pyautogui/__init__.py:599\u001b[0m, in \u001b[0;36m_genericPyAutoGUIChecks.<locals>.wrapper\u001b[0;34m(*args, **kwargs)\u001b[0m\n\u001b[1;32m    <a href='file:///home/neybackes/.local/lib/python3.8/site-packages/pyautogui/__init__.py?line=596'>597</a>\u001b[0m failSafeCheck()\n\u001b[1;32m    <a href='file:///home/neybackes/.local/lib/python3.8/site-packages/pyautogui/__init__.py?line=597'>598</a>\u001b[0m returnVal \u001b[39m=\u001b[39m wrappedFunction(\u001b[39m*\u001b[39margs, \u001b[39m*\u001b[39m\u001b[39m*\u001b[39mkwargs)\n\u001b[0;32m--> <a href='file:///home/neybackes/.local/lib/python3.8/site-packages/pyautogui/__init__.py?line=598'>599</a>\u001b[0m _handlePause(kwargs\u001b[39m.\u001b[39;49mget(\u001b[39m\"\u001b[39;49m\u001b[39m_pause\u001b[39;49m\u001b[39m\"\u001b[39;49m, \u001b[39mTrue\u001b[39;49;00m))\n\u001b[1;32m    <a href='file:///home/neybackes/.local/lib/python3.8/site-packages/pyautogui/__init__.py?line=599'>600</a>\u001b[0m \u001b[39mreturn\u001b[39;00m returnVal\n",
      "File \u001b[0;32m~/.local/lib/python3.8/site-packages/pyautogui/__init__.py:643\u001b[0m, in \u001b[0;36m_handlePause\u001b[0;34m(_pause)\u001b[0m\n\u001b[1;32m    <a href='file:///home/neybackes/.local/lib/python3.8/site-packages/pyautogui/__init__.py?line=640'>641</a>\u001b[0m \u001b[39mif\u001b[39;00m _pause:\n\u001b[1;32m    <a href='file:///home/neybackes/.local/lib/python3.8/site-packages/pyautogui/__init__.py?line=641'>642</a>\u001b[0m     \u001b[39massert\u001b[39;00m \u001b[39misinstance\u001b[39m(PAUSE, \u001b[39mint\u001b[39m) \u001b[39mor\u001b[39;00m \u001b[39misinstance\u001b[39m(PAUSE, \u001b[39mfloat\u001b[39m)\n\u001b[0;32m--> <a href='file:///home/neybackes/.local/lib/python3.8/site-packages/pyautogui/__init__.py?line=642'>643</a>\u001b[0m     time\u001b[39m.\u001b[39;49msleep(PAUSE)\n",
      "\u001b[0;31mKeyboardInterrupt\u001b[0m: "
     ]
    }
   ],
   "source": [
    "#Download da planilha de dados\n",
    "\n",
    "#pyautogui.PAUSE = 1\n",
    "pyautogui.hotkey('ctrl', 'alt', 't')\n",
    "time.sleep(2)\n",
    "pyautogui.write('google-chrome')\n",
    "pyautogui.press('enter')\n",
    "pyperclip.copy(link)\n",
    "time.sleep(2)\n",
    "pyautogui.hotkey('ctrl', 'v')\n",
    "pyautogui.press('enter')\n",
    "time.sleep(10)\n",
    "\n",
    "pyautogui.click(x=88, y=121)\n",
    "pyautogui.click(x=228, y=376)\n",
    "pyautogui.click(x=411, y=375)\n",
    "\n",
    "pyautogui.PAUSE = 10\n",
    "\n",
    "file = os.listdir('/home/neybackes/Downloads/')\n",
    "for file in file:\n",
    "    if file == 'Teste_Dados.xlsx':\n",
    "        arq = file\n",
    "        velho = os.path.join('/home/neybackes/Downloads/', arq)\n",
    "        novo = os.path.join('/home/neybackes/Desktop/programacao/Python/script_planilha_dados/', arq)\n",
    "        os.rename(velho, novo)\n",
    "\n",
    "df = pd.read_excel(novo) \n",
    "\n",
    "\n",
    "\n",
    "\n",
    "\n",
    "\n",
    "\n"
   ]
  },
  {
   "cell_type": "code",
   "execution_count": null,
   "metadata": {},
   "outputs": [],
   "source": [
    "pyautogui.PAUSE = 5\n",
    "\n",
    "juros = []\n",
    "for value in (df['Juros (%)']):\n",
    "    juros.append(value)\n",
    "poupanca = []\n",
    "for value in (df['Poupança']):\n",
    "     poupanca.append(value)\n",
    "cdb = []\n",
    "for value in (df['CDB']):\n",
    "    cdb.append(value )\n",
    "tm = []\n",
    "for value in (df['Título Imobiliário']):\n",
    "     tm.append(value )\n",
    "prev = []\n",
    "for value in (df['Previdência']):\n",
    "     prev.append(value )\n",
    "poupanca_j = []\n",
    "for value in (df['Poupança']):\n",
    "     poupanca_j.append(value * df['Juros (%)'].loc[0])\n",
    "cdb_j = []\n",
    "for value in (df['CDB']):\n",
    "     cdb_j.append(value * df['Juros (%)'].loc[1])\n",
    "tm_j = []\n",
    "for value in (df['Título Imobiliário']):\n",
    "     tm_j.append(value * df['Juros (%)'].loc[2] )\n",
    "prev_j = []\n",
    "for value in (df['Previdência']):\n",
    "     prev_j.append(value * df['Juros (%)'].loc[3] )\n",
    "\n",
    "total_investido = zip(poupanca, cdb, tm, prev)\n",
    "\n",
    "t_investido = [a + b + c + d for (a, b, c, d) in total_investido]\n",
    "\n",
    "total_juros = zip(poupanca_j, cdb_j, tm_j, prev_j)\n",
    "\n",
    "t_juros = [a + b + c + d for (a, b, c, d) in total_juros]\n",
    "\n",
    "df['Valor Investido'], df['Rendimentos'] = t_investido, t_juros\n",
    "\n",
    "resultados = df.drop(['Investimentos', 'Juros (%)' ], axis = 1)\n",
    "\n",
    "resultados.to_excel('/home/neybackes/Desktop/programacao/Python/script_planilha_dados/investimentos_resultados.xlsx')\n",
    "\n",
    "pyautogui.PAUSE= 5"
   ]
  },
  {
   "cell_type": "code",
   "execution_count": 29,
   "metadata": {},
   "outputs": [],
   "source": [
    "import os\n",
    "file = os.listdir('/home/neybackes/Downloads/')\n",
    "for file in file:\n",
    "    if file == 'Teste_Dados.xlsx':\n",
    "        arq = file\n",
    "        velho = os.path.join('/home/neybackes/Downloads/', arq)\n",
    "        novo = os.path.join('/home/neybackes/Desktop/programacao/Python/script_planilha_dados/', arq)\n",
    "        os.rename(velho, novo)\n",
    "      \n",
    "\n",
    "\n",
    "    \n",
    "\n",
    "\n"
   ]
  },
  {
   "cell_type": "code",
   "execution_count": 9,
   "metadata": {},
   "outputs": [
    {
     "ename": "KeyboardInterrupt",
     "evalue": "",
     "output_type": "error",
     "traceback": [
      "\u001b[0;31m---------------------------------------------------------------------------\u001b[0m",
      "\u001b[0;31mKeyboardInterrupt\u001b[0m                         Traceback (most recent call last)",
      "\u001b[1;32m/home/neybackes/Desktop/programacao/Python/script_planilha_dados/script_dados.ipynb Cell 4'\u001b[0m in \u001b[0;36m<cell line: 9>\u001b[0;34m()\u001b[0m\n\u001b[1;32m      <a href='vscode-notebook-cell:/home/neybackes/Desktop/programacao/Python/script_planilha_dados/script_dados.ipynb#ch0000007?line=6'>7</a>\u001b[0m pyautogui\u001b[39m.\u001b[39mhotkey(\u001b[39m'\u001b[39m\u001b[39mctrl\u001b[39m\u001b[39m'\u001b[39m, \u001b[39m'\u001b[39m\u001b[39mv\u001b[39m\u001b[39m'\u001b[39m)\n\u001b[1;32m      <a href='vscode-notebook-cell:/home/neybackes/Desktop/programacao/Python/script_planilha_dados/script_dados.ipynb#ch0000007?line=7'>8</a>\u001b[0m pyautogui\u001b[39m.\u001b[39mpress(\u001b[39m'\u001b[39m\u001b[39menter\u001b[39m\u001b[39m'\u001b[39m)\n\u001b[0;32m----> <a href='vscode-notebook-cell:/home/neybackes/Desktop/programacao/Python/script_planilha_dados/script_dados.ipynb#ch0000007?line=8'>9</a>\u001b[0m time\u001b[39m.\u001b[39;49msleep(\u001b[39m10\u001b[39;49m)\n\u001b[1;32m     <a href='vscode-notebook-cell:/home/neybackes/Desktop/programacao/Python/script_planilha_dados/script_dados.ipynb#ch0000007?line=9'>10</a>\u001b[0m pyautogui\u001b[39m.\u001b[39mclick(x\u001b[39m=\u001b[39m\u001b[39m88\u001b[39m, y\u001b[39m=\u001b[39m\u001b[39m121\u001b[39m)\n\u001b[1;32m     <a href='vscode-notebook-cell:/home/neybackes/Desktop/programacao/Python/script_planilha_dados/script_dados.ipynb#ch0000007?line=10'>11</a>\u001b[0m pyautogui\u001b[39m.\u001b[39mclick(x\u001b[39m=\u001b[39m\u001b[39m228\u001b[39m, y\u001b[39m=\u001b[39m\u001b[39m376\u001b[39m)\n",
      "\u001b[0;31mKeyboardInterrupt\u001b[0m: "
     ]
    }
   ],
   "source": [
    "pyautogui.hotkey('ctrl', 'alt', 't')\n",
    "time.sleep(2)\n",
    "pyautogui.write('google-chrome')\n",
    "pyautogui.press('enter')\n",
    "pyperclip.copy(link)\n",
    "time.sleep(2)\n",
    "pyautogui.hotkey('ctrl', 'v')\n",
    "pyautogui.press('enter')\n",
    "time.sleep(10)\n",
    "pyautogui.click(x=88, y=121)\n",
    "pyautogui.click(x=228, y=376)\n",
    "pyautogui.click(x=411, y=375)\n",
    "\n",
    "\n",
    "\n",
    "pyautogui.PAUSE = 10\n"
   ]
  }
 ],
 "metadata": {
  "interpreter": {
   "hash": "e7370f93d1d0cde622a1f8e1c04877d8463912d04d973331ad4851f04de6915a"
  },
  "kernelspec": {
   "display_name": "Python 3.8.10 64-bit",
   "language": "python",
   "name": "python3"
  },
  "language_info": {
   "codemirror_mode": {
    "name": "ipython",
    "version": 3
   },
   "file_extension": ".py",
   "mimetype": "text/x-python",
   "name": "python",
   "nbconvert_exporter": "python",
   "pygments_lexer": "ipython3",
   "version": "3.8.10"
  },
  "orig_nbformat": 4
 },
 "nbformat": 4,
 "nbformat_minor": 2
}
