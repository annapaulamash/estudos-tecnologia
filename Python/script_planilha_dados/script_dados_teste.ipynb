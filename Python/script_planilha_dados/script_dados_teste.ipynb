{
 "cells": [
  {
   "cell_type": "code",
   "execution_count": null,
   "metadata": {},
   "outputs": [],
   "source": [
    "import pyautogui\n",
    "import pyautogui as escolha_opcao\n",
    "opcao =  pyautogui.confirm('Dados Financeiros.\\n CLique na opção desejada', buttons = ['Download-Planilha', 'Calculo-Rendimentos'])\n"
   ]
  },
  {
   "cell_type": "code",
   "execution_count": null,
   "metadata": {},
   "outputs": [],
   "source": [
    "file = os.listdir('/home/neybackes/Downloads/')\n",
    "for file in file:\n",
    "    if file == 'Teste_Dados.xlsx':\n",
    "        arq = file\n",
    "        velho = os.path.join('/home/neybackes/Downloads/', arq)\n",
    "        novo = os.path.join('/home/neybackes/Desktop/programacao/Python/script_planilha_dados/', arq)\n",
    "        os.rename(velho, novo)"
   ]
  },
  {
   "cell_type": "code",
   "execution_count": 29,
   "metadata": {},
   "outputs": [],
   "source": [
    "if opcao == 'Download-Planilha':\n",
    "    escolha_opcao.hotkey('ctrl', 'alt', 't')\n",
    "    escolha_opcao.sleep(2)\n",
    "    escolha_opcao.write('google-chrome')\n",
    "    escolha_opcao.press('enter')\n",
    "    escolha_opcao.typewrite('https://docs.google.com/spreadsheets/d/1AToabuB_d9s2tv6rWxSQyzbFuqUuj8aCYeQ_GD6EJPg/edit?usp=drive_web&ouid=101865441184343255661')\n",
    "    escolha_opcao.sleep(2)\n",
    "    pyautogui.hotkey('ctrl', 'v')\n",
    "    pyautogui.press('enter')\n",
    "    escolha_opcao.sleep(10)\n",
    "\n",
    "    pyautogui.alert(text='Donwload Concluido', title='', button='OK')"
   ]
  }
 ],
 "metadata": {
  "interpreter": {
   "hash": "e7370f93d1d0cde622a1f8e1c04877d8463912d04d973331ad4851f04de6915a"
  },
  "kernelspec": {
   "display_name": "Python 3.8.10 64-bit",
   "language": "python",
   "name": "python3"
  },
  "language_info": {
   "codemirror_mode": {
    "name": "ipython",
    "version": 3
   },
   "file_extension": ".py",
   "mimetype": "text/x-python",
   "name": "python",
   "nbconvert_exporter": "python",
   "pygments_lexer": "ipython3",
   "version": "3.8.10"
  },
  "orig_nbformat": 4
 },
 "nbformat": 4,
 "nbformat_minor": 2
}
